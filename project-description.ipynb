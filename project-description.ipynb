{
 "cells": [
  {
   "cell_type": "markdown",
   "metadata": {},
   "source": [
    "# Global Disaster Statistics Dashboard using Dash\n",
    "\n",
    "Our project, which focuses on analyzing disaster data through an interactive dashboard, directly contributes to **SDG Goal 13.1**: “Strengthen resilience and adaptive capacity to climate-related hazards and natural disasters in all countries” (United Nations, 2023). By leveraging data from EM-DAT, we visualize key metrics such as total deaths, affected populations, and economic losses from climate-related disasters like floods, droughts, and storms. These insights help governments, policymakers, and disaster management agencies understand the most vulnerable regions and the long-term effects of climate-related hazards, fostering data-driven decision-making.\n",
    "\n",
    "One of the core objectives of SDG 13.1 is enhancing resilience and adaptive capacity to climate-related disasters. Our dashboard highlights trends in disaster occurrences, allowing decision-makers to track the growing frequency of extreme weather events and their impacts on different regions. This empowers authorities to implement timely and targeted interventions to mitigate future risks. Additionally, by providing insights on economic damages, the project supports more informed planning for resource allocation and disaster preparedness efforts in high-risk areas.\n",
    "\n",
    "As the global climate continues to change, the ability to predict and respond to disasters becomes critical for achieving sustainable development. Our project, aligned with Goal 13.1, demonstrates how data can be utilized to build a more resilient and adaptive society in the face of increasing climate hazards (Ritchie & Roser, 2020). This contribution to resilience-building initiatives is essential for safeguarding communities and fostering sustainable development globally.\n",
    "\n",
    "**References**  \n",
    "Ritchie, H., & Roser, M. (2020). *Climate Action*. Our World in Data. https://ourworldindata.org/sdgs/climate-action  \n",
    "United Nations. (2023). *Take urgent action to combat climate change and its impacts*. UN SDGs. https://sdgs.un.org/goals/goal13\n",
    "\n",
    "\n",
    "---"
   ]
  },
  {
   "cell_type": "markdown",
   "metadata": {},
   "source": [
    "# Data Description\n",
    "### Data source: https://doc.emdat.be/docs/data-structure-and-content/general-definitions-and-concepts/\n",
    "The EM-DAT (Emergency Events Database) is a comprehensive global database that tracks the occurrence and effects of disasters. Managed by the Centre for Research on the Epidemiology of Disasters (CRED), EM-DAT provides open-access data on both natural and technological disasters worldwide. It captures vital information such as the type of disaster, the geographic regions affected, and the human and economic impacts. The primary aim of EM-DAT is to help decision-makers and researchers analyze disaster trends, assess vulnerability, and support disaster risk reduction efforts. This data is essential for understanding global disaster patterns and planning effective responses."
   ]
  },
  {
   "cell_type": "markdown",
   "metadata": {},
   "source": [
    "| Column Name                           | Type                              | Description                                                                                                                                               |\n",
    "|---------------------------------------|-----------------------------------|-----------------------------------------------------------------------------------------------------------------------------------------------------------|\n",
    "| Dis No.                               | ID, Mandatory                     | A unique 8-digit identifier including the year (4 digits) and a sequential number (4 digits) for each disaster event (i.e., 2004-0659).                   |\n",
    "| Disaster Type                         | Name, Mandatory                   | The type of disaster, e.g., Drought, Flood, Earthquake.                                                                                                   |\n",
    "| ISO                                   | ID, Mandatory                     | The International Organization for Standardization (ISO) 3-letter code referring to the country.                                                          |\n",
    "| Country                               | Name, Mandatory                   | The country where the disaster occurred, as per the UN M49 standard.                                                                                      |\n",
    "| Subregion                             | Name, Mandatory                   | The subregion where the disaster occurred, as per the UN M49 standard.                                                                                    |\n",
    "| Region                                | Name, Mandatory                   | The region or continent where the disaster occurred, as per the UN M49 standard.                                                                          |\n",
    "| Start Year                            | Numeric, Mandatory                | The year the disaster occurred.                                                                                                                           |\n",
    "| Start Month                           | Numeric, Optional                 | The month the disaster occurred. For sudden-impact disasters, this field is well-defined; for gradual disasters, it may be left blank.                     |\n",
    "| Total Deaths                          | Numeric, Optional                 | The total number of fatalities (deceased and missing) caused by the disaster.                                                                             |\n",
    "| Total Affected                        | Numeric, Optional                 | The total number of people affected by the disaster (injured, affected, and homeless combined).                                                           |\n",
    "| Total Damage, Adjusted ('000 US$)     | Adjusted Monetary Amount (‘000 US$), Optional | The total economic damage caused by the disaster, adjusted for inflation using the Consumer Price Index (CPI).                                             |\n",
    "| Last Update                           | Date, Mandatory                   | The last modification date of the event or associated records in the database.                                                                            |\n"
   ]
  },
  {
   "cell_type": "markdown",
   "metadata": {},
   "source": [
    "This project involves the development and analysis of a disaster dataset using key metrics such as the type of disaster, the countries impacted, and the associated human and economic consequences. The dataset, derived from EM-DAT (The Emergency Events Database), is focused on global disaster events and includes critical information such as the unique identifier for each event (Dis No.), the disaster type, the International Organization for Standardization (ISO) country code, the region, and subregion where the disaster occurred, as well as the number of people affected and economic losses.\n",
    "\n",
    "The primary objective of this project is to extract meaningful insights from the data, helping to understand global disaster patterns over time. This will be achieved by analyzing the occurrence of different disaster types across various geographic regions, identifying trends in the number of deaths and affected people, and quantifying economic damage caused by these events. Key metrics like total deaths, total affected individuals, and adjusted economic damage are calculated to assess the overall impact of each disaster.\n",
    "\n",
    "The project also involves building a dashboard using Dash to visualize this data interactively, enabling users to filter information by country, region, disaster type, and time period. The visualization will help policymakers, researchers, and organizations track and monitor the long-term effects of natural and technological disasters globally. This analysis is essential for developing strategic disaster response plans and identifying regions that require stronger disaster management frameworks.\n",
    "\n",
    "---"
   ]
  },
  {
   "cell_type": "markdown",
   "metadata": {},
   "source": [
    "# Instructions to Run the Dash App\n",
    "\n",
    "To successfully run and open the Dash App you've created using the provided code, follow the steps detailed below.\n",
    "\n",
    "\n",
    "## Step 1: Install Required Libraries\n",
    "\n",
    "First, ensure that all necessary libraries for the Dash App are installed. You can install them by running the following command in your terminal (or command prompt):\n"
   ]
  },
  {
   "cell_type": "markdown",
   "metadata": {},
   "source": [
    "\n",
    "```bash\n",
    "pip install dash dash-bootstrap-components dash-mantine-components pandas numpy plotly openpyxl\n",
    "```"
   ]
  },
  {
   "cell_type": "markdown",
   "metadata": {},
   "source": [
    "**Note:** The `openpyxl` library is necessary to read the Excel file in the app.\n",
    "\n",
    "\n",
    "\n",
    "## Step 2: Prepare Input Data\n",
    "\n",
    "The Dash App requires the Excel file `cleaned_emrat.xlsx` located in the `dataset` folder. Please ensure that:\n",
    "\n",
    "- You have the file `cleaned_emrat.xlsx` in the `dataset` folder.\n",
    "- The file path should be correctly referenced in the code as `dataset/cleaned_emrat.xlsx`.\n",
    "\n",
    "\n",
    "\n",
    "## Step 3: Run the Dash App\n",
    "\n",
    "To run the app, follow these steps:\n",
    "\n",
    "1. Open your terminal (or command prompt) and navigate to the folder where the Python script for the Dash App is located. Use the following command:"
   ]
  },
  {
   "cell_type": "markdown",
   "metadata": {},
   "source": [
    "```bash\n",
    "cd /path_to_your_folder\n",
    "```"
   ]
  },
  {
   "cell_type": "markdown",
   "metadata": {},
   "source": [
    "Replace `/path_to_your_folder` with the actual directory where your Dash App file is saved."
   ]
  },
  {
   "cell_type": "markdown",
   "metadata": {},
   "source": [
    "2. After navigating to the correct directory, run the following command to execute your Dash App:"
   ]
  },
  {
   "cell_type": "markdown",
   "metadata": {},
   "source": [
    "```bash\n",
    "python your_file_name.py\n",
    "```"
   ]
  },
  {
   "cell_type": "markdown",
   "metadata": {},
   "source": [
    "Replace `your_file_name.py` with the name of your Python script (e.g., `app.py`).\n",
    "\n"
   ]
  },
  {
   "cell_type": "markdown",
   "metadata": {},
   "source": [
    "\n",
    "## Step 4: Open the App in the Browser\n",
    "\n",
    "After running the app, a message will appear in the terminal with a URL similar to the following:"
   ]
  },
  {
   "cell_type": "markdown",
   "metadata": {},
   "source": [
    "```\n",
    "Dash is running on http://127.0.0.1:8050/\n",
    "```"
   ]
  },
  {
   "cell_type": "markdown",
   "metadata": {},
   "source": [
    "3. Copy this URL and paste it into your web browser (e.g., Google Chrome, Firefox) to access the Dash App.\n",
    "\n",
    "4. If you'd like the Dash App to automatically open in your browser after running the script, uncomment the following line in your Python code:"
   ]
  },
  {
   "cell_type": "code",
   "execution_count": 1,
   "metadata": {},
   "outputs": [],
   "source": [
    "# Timer(1, open_browser).start()"
   ]
  },
  {
   "cell_type": "markdown",
   "metadata": {},
   "source": [
    "By uncommenting this line, the app will launch automatically in your default browser when the script is executed.\n",
    "\n"
   ]
  },
  {
   "cell_type": "markdown",
   "metadata": {},
   "source": [
    "\n",
    "## Step 5: Interact with the Dash App\n",
    "\n",
    "Once the Dash App is open in your browser, you can start interacting with it. The app offers the following functionalities:\n",
    "\n",
    "- **Filter Data**: Use the filters for Year, Month, Continent, Subregion, Country, and Disaster Type to explore different subsets of data.\n",
    "- **View Statistics**: The app displays key statistics such as total deaths, affected people, economic damage, and the most impacted countries.\n",
    "- **Analyze Charts**: View dynamic charts like the damage map, disaster count map, stacked bar chart for disaster trends, and casualty trends over the years.\n",
    "   \n",
    "   \n",
    "   \n",
    "---"
   ]
  },
  {
   "cell_type": "markdown",
   "metadata": {},
   "source": [
    "# Project execution\n",
    "\n",
    "## I. Data & Functions Preparation\n",
    "\n",
    "### 1. Import necessary libraries\n",
    "- `dash`, `dash_core_components`, `dash_html_components`, and `dash.dependencies` are used to create interactive dashboard components.\n",
    "- `dash_mantine_components` and `dash_bootstrap_components` are used for UI components and styling.\n",
    "- `pandas` and `numpy` are used for data manipulation and calculations.\n",
    "- `plotly.express` and `plotly.graph_objects` are used for data visualization.\n",
    "- `webbrowser` and `threading` enable the dashboard to open automatically in the browser after starting the app.\n",
    "\n",
    "### 2. Load and clean the dataset\n",
    "- The dataset is loaded from an Excel file (`cleaned_emrat.xlsx`) using `pandas`.\n",
    "- `data['last_update']`: Date fields are converted to datetime objects to handle date-related filters and visualizations.\n",
    "- `data['year']`: The year column is converted to string, resolving an incompatibility issue with Dash's `dcc.RangeSlider`.\n",
    "\n",
    "### 3. Calculate key statistics\n",
    "- `total_deaths`, `total_affected`, `total_damage`: The sum of deaths, affected people, and economic damages across all records.\n",
    "- `most_deaths_country`, `most_affected_country`, `most_damaged_country`: Identify the countries with the highest impact in terms of deaths, people affected, and damage.\n",
    "\n",
    "### 4. Prepare filters for user interaction\n",
    "- Unique values from `years`, `months`, `continents`, `subregions`, `countries`, and `disaster_types` are extracted from the dataset to populate dropdowns and sliders.\n",
    "- A combination of `Year` and `Month` is created as a new column for more granular filtering.\n",
    "\n",
    "## II. Creating the Dash App\n",
    "\n",
    "### 1. App initialization\n",
    "- `dash.Dash()`: Initializes the app.\n",
    "- `external_stylesheets`: Dash Bootstrap theme is used for responsive layout and aesthetic UI.\n",
    "- `app.layout`: Defines the overall structure of the dashboard, organized into two rows (R1: Title and Filters, R2: Cards and Charts).\n",
    "\n",
    "### 2. Row 1: Title and Filter Section\n",
    "- **Title**: Displays the dashboard title, \"Global Disaster Statistics\".\n",
    "- **Filters**: Multiple filter options are available for users, including:\n",
    "  - Year and Month (`dcc.RangeSlider` and `dcc.Dropdown`).\n",
    "  - Location-based filters (Continent, Subregion, Country using `dcc.Dropdown`).\n",
    "  - Disaster types (`dcc.Checklist`), where each type is represented with an image.\n",
    "\n",
    "### 3. Row 2: Statistics and Graphs\n",
    "- **Statistics Cards**: Six statistics cards display:\n",
    "  - Total deaths, total people affected, total damage, and countries with the most impact in terms of deaths, affected people, and damage.\n",
    "- **Map and Charts**: Two columns contain:\n",
    "  - A total damage map and a disaster count map.\n",
    "  - A stacked bar chart showing trends of disasters by type.\n",
    "  - A line chart visualizing the trend in deaths over the years.\n",
    "\n",
    "## III. Callbacks for Interactivity\n",
    "\n",
    "### 1. Update filters dynamically\n",
    "- **Subregion Filter**: The subregion dropdown updates based on the selected continent.\n",
    "- **Country Filter**: The country dropdown updates based on the selected subregion.\n",
    "\n",
    "### 2. Reset filters\n",
    "- The \"Reset Filter\" button resets all filters back to their default values.\n",
    "\n",
    "### 3. Update statistics dynamically\n",
    "- Each statistics card updates its content based on the selected filters, calculating the total deaths, affected people, damage, and most impacted countries dynamically.\n",
    "\n",
    "### 4. Dynamic Maps and Charts\n",
    "- **Damage Map**: A choropleth map visualizing the total damage caused by disasters, with countries colored by damage categories.\n",
    "- **Disaster Count Map**: A choropleth map displaying the number of disasters in each country.\n",
    "- **Stacked Bar Chart**: A stacked bar chart showing the number of disasters by type over the years.\n",
    "- **Casualty Trend Line Chart**: A line chart displaying the trend in total deaths caused by disasters over the years.\n",
    "\n",
    "## IV. Running the App\n",
    "- The app starts with `app.run_server(debug=True)`.\n",
    "- Optionally, the dashboard can open automatically in the browser using the `webbrowser` library and `Timer` function.\n",
    "\n",
    "\n",
    "---\n"
   ]
  },
  {
   "cell_type": "markdown",
   "metadata": {},
   "source": [
    "# Future Vision and Potential\n",
    "\n",
    "The project has substantial potential for future development, particularly in refining data visualization, enhancing user interaction, and expanding analytical capabilities. By building on the existing code, several key improvements can be integrated to increase the depth of insights provided and the functionality of the dashboard.\n",
    "\n",
    "## 1. **Enhanced Data Filtering and Customization**\n",
    "   The current dashboard allows filtering based on specific metrics such as country, disaster type, and year. Future developments could introduce more advanced filtering options. For example, enabling users to filter by economic impact thresholds, casualty ranges, or the duration of a disaster event could provide more granular insights. Adding the ability to compare multiple disasters side-by-side or visualize historical trends within regions would help users better understand disaster progression and impact.\n",
    "\n",
    "## 2. **Integration of Machine Learning Models for Prediction**\n",
    "   A natural extension of this project would be the application of predictive models based on the historical disaster data. Using machine learning algorithms, the dataset could be leveraged to predict the likelihood of future disasters in certain regions, identify high-risk areas, or forecast economic damage. This predictive capability could enhance disaster preparedness by providing early warnings and strategic recommendations for mitigating the effects of impending disasters.\n",
    "\n",
    "## 3. **Real-time Data Feeds and Updates**\n",
    "   Currently, the dataset is static and updated periodically. In the future, this project could integrate real-time data feeds, pulling live disaster data from sources such as meteorological services or government disaster management agencies. With this enhancement, the dashboard could serve as a real-time monitoring tool for disaster events, offering instant insights into emerging situations and allowing for faster response actions.\n",
    "\n",
    "## 4. **Socioeconomic and Environmental Impact Analysis**\n",
    "   By incorporating additional datasets, such as population density, infrastructure vulnerability, or climate change projections, the dashboard could provide a more comprehensive analysis of the socioeconomic and environmental impacts of disasters. This would allow users to assess not only the immediate consequences but also the long-term implications of disaster events on different communities and regions.\n",
    "\n",
    "## 5. **User Interface and Experience Improvements**\n",
    "   Future versions of the dashboard could offer improved user interfaces with features like drag-and-drop charts, custom reports, and automated alerts. Interactive maps with layers showing disaster zones, affected populations, and infrastructure damage could further enhance the visualization experience. Additionally, integrating these elements with social media or communication platforms could make the dashboard more accessible for disaster response teams.\n",
    "\n",
    "## 6. **Global and Regional Comparative Insights**\n",
    "   The dashboard could be expanded to offer more comparative analytics across regions. For example, comparing disaster frequency, severity, and economic damage between continents or countries over a specified time frame could provide decision-makers with critical information for international aid allocation, regional preparedness, and cooperation strategies.\n",
    "\n",
    "In summary, the potential for this project extends beyond static data analysis and visualization. By incorporating machine learning, real-time data feeds, advanced filtering, and additional impact factors, the platform can become a dynamic and critical tool for global disaster preparedness, response, and mitigation efforts. These improvements would support governments, humanitarian organizations, and researchers in making more informed, data-driven decisions in the face of future disasters."
   ]
  },
  {
   "cell_type": "markdown",
   "metadata": {},
   "source": []
  }
 ],
 "metadata": {
  "kernelspec": {
   "display_name": "base",
   "language": "python",
   "name": "python3"
  },
  "language_info": {
   "codemirror_mode": {
    "name": "ipython",
    "version": 3
   },
   "file_extension": ".py",
   "mimetype": "text/x-python",
   "name": "python",
   "nbconvert_exporter": "python",
   "pygments_lexer": "ipython3",
   "version": "3.11.5"
  }
 },
 "nbformat": 4,
 "nbformat_minor": 2
}
